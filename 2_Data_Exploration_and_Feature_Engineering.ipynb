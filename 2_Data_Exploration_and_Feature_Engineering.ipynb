{
 "cells": [
  {
   "cell_type": "markdown",
   "metadata": {},
   "source": [
    "# Data Exploration"
   ]
  },
  {
   "cell_type": "code",
   "execution_count": 1,
   "metadata": {},
   "outputs": [],
   "source": [
    "from datetime import date, datetime, timedelta, time\n",
    "import pandas as pd\n",
    "import numpy as np\n",
    "import holidays\n",
    "import math\n",
    "import matplotlib.pyplot as plt\n",
    "from xgboost import XGBRegressor\n",
    "from sklearn.model_selection import train_test_split"
   ]
  },
  {
   "cell_type": "markdown",
   "metadata": {},
   "source": [
    "## Add weather data"
   ]
  },
  {
   "cell_type": "markdown",
   "metadata": {},
   "source": [
    "* keep in mind that weather might not be available for future predictions depending on how far away the predicted date is from the present\n",
    "* including weather data here is merely to find out if there is an impact on the number of trips"
   ]
  },
  {
   "cell_type": "code",
   "execution_count": 7,
   "metadata": {},
   "outputs": [],
   "source": [
    "df = pd.read_csv(\"../taxi_data/dropoffs.csv\", index_col=[0])\n",
    "df['dt'] = df[['year', 'month', 'day', 'hour']].apply(lambda s : datetime(*s),axis = 1)\n",
    "usHolidays = holidays.UnitedStates()\n",
    "# add dummy for if a day is an US holiday\n",
    "df[\"holiday\"] = df[\"dt\"].apply(lambda x: x in usHolidays).astype(int)"
   ]
  },
  {
   "cell_type": "code",
   "execution_count": 8,
   "metadata": {},
   "outputs": [],
   "source": [
    "w = pd.read_csv(\"../taxi_data/weather_prepared.csv\", parse_dates=[\"dt\"])\n",
    "for i in w.columns[1:]:\n",
    "    df = pd.merge(df, w[[\"dt\", i]], on=\"dt\", how=\"left\")\n",
    "#df = df.drop(\"dt\", axis=1)\n",
    "#df.to_csv(\"taxi_rides_w_weather.csv\")"
   ]
  },
  {
   "cell_type": "code",
   "execution_count": 9,
   "metadata": {},
   "outputs": [
    {
     "data": {
      "text/html": [
       "<div>\n",
       "<style scoped>\n",
       "    .dataframe tbody tr th:only-of-type {\n",
       "        vertical-align: middle;\n",
       "    }\n",
       "\n",
       "    .dataframe tbody tr th {\n",
       "        vertical-align: top;\n",
       "    }\n",
       "\n",
       "    .dataframe thead th {\n",
       "        text-align: right;\n",
       "    }\n",
       "</style>\n",
       "<table border=\"1\" class=\"dataframe\">\n",
       "  <thead>\n",
       "    <tr style=\"text-align: right;\">\n",
       "      <th></th>\n",
       "      <th>rides</th>\n",
       "      <th>location</th>\n",
       "      <th>year</th>\n",
       "      <th>month</th>\n",
       "      <th>day</th>\n",
       "      <th>hour</th>\n",
       "      <th>wday</th>\n",
       "      <th>holiday</th>\n",
       "      <th>dt</th>\n",
       "      <th>temp</th>\n",
       "      <th>...</th>\n",
       "      <th>temp_min</th>\n",
       "      <th>temp_max</th>\n",
       "      <th>humidity</th>\n",
       "      <th>wind_speed</th>\n",
       "      <th>rain_1h</th>\n",
       "      <th>rain_3h</th>\n",
       "      <th>snow_1h</th>\n",
       "      <th>snow_3h</th>\n",
       "      <th>weather_main</th>\n",
       "      <th>weather_description</th>\n",
       "    </tr>\n",
       "  </thead>\n",
       "  <tbody>\n",
       "    <tr>\n",
       "      <th>0</th>\n",
       "      <td>1</td>\n",
       "      <td>2</td>\n",
       "      <td>2018</td>\n",
       "      <td>1</td>\n",
       "      <td>8</td>\n",
       "      <td>13</td>\n",
       "      <td>0</td>\n",
       "      <td>0</td>\n",
       "      <td>2018-01-08 13:00:00</td>\n",
       "      <td>-3.04</td>\n",
       "      <td>...</td>\n",
       "      <td>-3.40</td>\n",
       "      <td>-2.37</td>\n",
       "      <td>60.0</td>\n",
       "      <td>3.92</td>\n",
       "      <td>0.0</td>\n",
       "      <td>0.0</td>\n",
       "      <td>0.0</td>\n",
       "      <td>0.0</td>\n",
       "      <td>Clouds</td>\n",
       "      <td>overcast clouds</td>\n",
       "    </tr>\n",
       "    <tr>\n",
       "      <th>1</th>\n",
       "      <td>1</td>\n",
       "      <td>2</td>\n",
       "      <td>2018</td>\n",
       "      <td>1</td>\n",
       "      <td>14</td>\n",
       "      <td>14</td>\n",
       "      <td>6</td>\n",
       "      <td>0</td>\n",
       "      <td>2018-01-14 14:00:00</td>\n",
       "      <td>-4.42</td>\n",
       "      <td>...</td>\n",
       "      <td>-5.40</td>\n",
       "      <td>-3.30</td>\n",
       "      <td>48.0</td>\n",
       "      <td>3.83</td>\n",
       "      <td>0.0</td>\n",
       "      <td>0.0</td>\n",
       "      <td>0.0</td>\n",
       "      <td>0.0</td>\n",
       "      <td>Clear</td>\n",
       "      <td>sky is clear</td>\n",
       "    </tr>\n",
       "    <tr>\n",
       "      <th>2</th>\n",
       "      <td>1</td>\n",
       "      <td>2</td>\n",
       "      <td>2018</td>\n",
       "      <td>1</td>\n",
       "      <td>16</td>\n",
       "      <td>8</td>\n",
       "      <td>1</td>\n",
       "      <td>0</td>\n",
       "      <td>2018-01-16 08:00:00</td>\n",
       "      <td>-2.59</td>\n",
       "      <td>...</td>\n",
       "      <td>-4.01</td>\n",
       "      <td>-1.20</td>\n",
       "      <td>85.0</td>\n",
       "      <td>1.28</td>\n",
       "      <td>0.0</td>\n",
       "      <td>0.0</td>\n",
       "      <td>0.0</td>\n",
       "      <td>0.0</td>\n",
       "      <td>Clouds</td>\n",
       "      <td>overcast clouds</td>\n",
       "    </tr>\n",
       "    <tr>\n",
       "      <th>3</th>\n",
       "      <td>1</td>\n",
       "      <td>2</td>\n",
       "      <td>2018</td>\n",
       "      <td>1</td>\n",
       "      <td>19</td>\n",
       "      <td>19</td>\n",
       "      <td>4</td>\n",
       "      <td>0</td>\n",
       "      <td>2018-01-19 19:00:00</td>\n",
       "      <td>2.44</td>\n",
       "      <td>...</td>\n",
       "      <td>0.60</td>\n",
       "      <td>3.40</td>\n",
       "      <td>65.0</td>\n",
       "      <td>2.93</td>\n",
       "      <td>0.0</td>\n",
       "      <td>0.0</td>\n",
       "      <td>0.0</td>\n",
       "      <td>0.0</td>\n",
       "      <td>Clouds</td>\n",
       "      <td>few clouds</td>\n",
       "    </tr>\n",
       "    <tr>\n",
       "      <th>4</th>\n",
       "      <td>100</td>\n",
       "      <td>4</td>\n",
       "      <td>2018</td>\n",
       "      <td>1</td>\n",
       "      <td>1</td>\n",
       "      <td>0</td>\n",
       "      <td>0</td>\n",
       "      <td>1</td>\n",
       "      <td>2018-01-01 00:00:00</td>\n",
       "      <td>-12.47</td>\n",
       "      <td>...</td>\n",
       "      <td>-13.00</td>\n",
       "      <td>-10.98</td>\n",
       "      <td>65.0</td>\n",
       "      <td>3.96</td>\n",
       "      <td>0.0</td>\n",
       "      <td>0.0</td>\n",
       "      <td>0.0</td>\n",
       "      <td>0.0</td>\n",
       "      <td>Clear</td>\n",
       "      <td>sky is clear</td>\n",
       "    </tr>\n",
       "  </tbody>\n",
       "</table>\n",
       "<p>5 rows × 21 columns</p>\n",
       "</div>"
      ],
      "text/plain": [
       "   rides  location  year  month  day  hour  wday  holiday                  dt  \\\n",
       "0      1         2  2018      1    8    13     0        0 2018-01-08 13:00:00   \n",
       "1      1         2  2018      1   14    14     6        0 2018-01-14 14:00:00   \n",
       "2      1         2  2018      1   16     8     1        0 2018-01-16 08:00:00   \n",
       "3      1         2  2018      1   19    19     4        0 2018-01-19 19:00:00   \n",
       "4    100         4  2018      1    1     0     0        1 2018-01-01 00:00:00   \n",
       "\n",
       "    temp  ...  temp_min  temp_max  humidity  wind_speed  rain_1h  rain_3h  \\\n",
       "0  -3.04  ...     -3.40     -2.37      60.0        3.92      0.0      0.0   \n",
       "1  -4.42  ...     -5.40     -3.30      48.0        3.83      0.0      0.0   \n",
       "2  -2.59  ...     -4.01     -1.20      85.0        1.28      0.0      0.0   \n",
       "3   2.44  ...      0.60      3.40      65.0        2.93      0.0      0.0   \n",
       "4 -12.47  ...    -13.00    -10.98      65.0        3.96      0.0      0.0   \n",
       "\n",
       "   snow_1h  snow_3h  weather_main weather_description  \n",
       "0      0.0      0.0        Clouds     overcast clouds  \n",
       "1      0.0      0.0         Clear        sky is clear  \n",
       "2      0.0      0.0        Clouds     overcast clouds  \n",
       "3      0.0      0.0        Clouds          few clouds  \n",
       "4      0.0      0.0         Clear        sky is clear  \n",
       "\n",
       "[5 rows x 21 columns]"
      ]
     },
     "execution_count": 9,
     "metadata": {},
     "output_type": "execute_result"
    }
   ],
   "source": [
    "df.head()"
   ]
  },
  {
   "cell_type": "markdown",
   "metadata": {},
   "source": [
    "## Add more calendar features"
   ]
  },
  {
   "cell_type": "markdown",
   "metadata": {},
   "source": [
    "* adding sin and cos variation of calendar data might be helpful since there is a smoother transition between values (e.g. December (12) and January (1) are likely to behave similarly but have very different values when just using \"12\" and \"1\")"
   ]
  },
  {
   "cell_type": "code",
   "execution_count": 10,
   "metadata": {},
   "outputs": [],
   "source": [
    "df[\"wday\"] = df[\"dt\"].apply(lambda x: x.weekday())"
   ]
  },
  {
   "cell_type": "code",
   "execution_count": 11,
   "metadata": {},
   "outputs": [],
   "source": [
    "df[\"hour_of_year\"] = df[\"dt\"].apply(lambda x: (x-datetime(x.year,1,1)).days*24 + (x-datetime(x.year,1,1)).seconds // 3600)\n",
    "df[\"hour_of_week\"] = df.wday*24 + df.hour+1"
   ]
  },
  {
   "cell_type": "code",
   "execution_count": 12,
   "metadata": {},
   "outputs": [],
   "source": [
    "#df[\"hour_of_week_cos\"] = df[\"hour_of_week\"].apply(lambda x: math.cos(x/168 * 2 * math.pi))\n",
    "#df[\"hour_of_week_sin\"] = df[\"hour_of_week\"].apply(lambda x: math.sin(x/168 * 2 * math.pi))\n",
    "#df[\"month_cos\"] = df[\"month\"].apply(lambda x: math.cos(x/12 * 2 * math.pi))\n",
    "#df[\"month_sin\"] = df[\"month\"].apply(lambda x: math.sin(x/12 * 2 * math.pi))\n",
    "#df[\"day_cos\"] = df[\"day\"].apply(lambda x: math.cos(x/31 * 2 * math.pi))\n",
    "#df[\"day_sin\"] = df[\"day\"].apply(lambda x: math.sin(x/31 * 2 * math.pi))\n",
    "#df[\"hour_cos\"] = df[\"hour\"].apply(lambda x: math.cos(x/24 * 2 * math.pi))\n",
    "#df[\"hour_sin\"] = df[\"hour\"].apply(lambda x: math.sin(x/24 * 2 * math.pi))\n",
    "#df[\"wday_cos\"] = df[\"wday\"].apply(lambda x: math.cos(x/7 * 2 * math.pi))\n",
    "#df[\"wday_sin\"] = df[\"wday\"].apply(lambda x: math.sin(x/7 * 2 * math.pi))"
   ]
  },
  {
   "cell_type": "code",
   "execution_count": 19,
   "metadata": {},
   "outputs": [],
   "source": [
    "df = df.drop(\"dt\", axis=1)"
   ]
  },
  {
   "cell_type": "markdown",
   "metadata": {},
   "source": [
    "## Feature importance with XGBoost"
   ]
  },
  {
   "cell_type": "code",
   "execution_count": 20,
   "metadata": {},
   "outputs": [
    {
     "data": {
      "text/plain": [
       "[]"
      ]
     },
     "execution_count": 20,
     "metadata": {},
     "output_type": "execute_result"
    }
   ],
   "source": [
    "cat_features = list(df.columns[df.dtypes==object])\n",
    "cat_features"
   ]
  },
  {
   "cell_type": "code",
   "execution_count": 21,
   "metadata": {},
   "outputs": [],
   "source": [
    "def get_feature_importance(data, no_of_features, cats=cat_features):\n",
    "    # replace cat NaNs with 'missing'\n",
    "    data[cat_features] = data[cat_features].fillna('missing')\n",
    "    # turn cat features into numbers\n",
    "    for col in data[cat_features]:\n",
    "        data[col] = pd.factorize(data[col])[0]\n",
    "    # fit XGB classifier to train data\n",
    "    model = XGBRegressor()\n",
    "    X = data.drop(columns=['rides'])\n",
    "    y = data.rides\n",
    "    X_train, X_test, y_train, y_test = train_test_split(X, y, test_size=0.2, shuffle=False)\n",
    "    print(\"tts complete\")\n",
    "    #min_max_scaler = preprocessing.MinMaxScaler()\n",
    "    #X_train = min_max_scaler.fit_transform(X_train)\n",
    "    print(len(X_train))\n",
    "    model.fit(X_train, y_train)\n",
    "    print(\"fit complete\")\n",
    "    # zip column names with their respective feature importances\n",
    "    fi = list(zip(list(X_train), model.feature_importances_))\n",
    "    # sort by feature importance\n",
    "    fi.sort(key=lambda x: x[1])\n",
    "    # take x best features\n",
    "    feature_list = list(zip(*fi[-no_of_features:]))\n",
    "    # create plot\n",
    "    plt.figure(figsize=(12, 5))\n",
    "    plt.grid(b=None)\n",
    "    plt.title('Feature Importance')\n",
    "    plt.barh(range(len(feature_list[1])), feature_list[1])\n",
    "    my_yticks = feature_list[0]\n",
    "    plt.yticks(list(range(len(my_yticks))), my_yticks)\n",
    "    plt.xlabel('Feature Score')\n",
    "    plt.show()\n",
    "    return my_yticks"
   ]
  },
  {
   "cell_type": "code",
   "execution_count": 22,
   "metadata": {},
   "outputs": [
    {
     "name": "stdout",
     "output_type": "stream",
     "text": [
      "tts complete\n",
      "2268581\n"
     ]
    },
    {
     "name": "stderr",
     "output_type": "stream",
     "text": [
      "/Users/johannespastorek/opt/anaconda3/envs/nf/lib/python3.6/site-packages/xgboost/core.py:587: FutureWarning: Series.base is deprecated and will be removed in a future version\n",
      "  if getattr(data, 'base', None) is not None and \\\n"
     ]
    },
    {
     "name": "stdout",
     "output_type": "stream",
     "text": [
      "[13:18:29] WARNING: src/objective/regression_obj.cu:152: reg:linear is now deprecated in favor of reg:squarederror.\n",
      "fit complete\n"
     ]
    },
    {
     "data": {
      "image/png": "[encoded data removed]",
      "text/plain": [
       "<Figure size 864x360 with 1 Axes>"
      ]
     },
     "metadata": {
      "needs_background": "light"
     },
     "output_type": "display_data"
    }
   ],
   "source": [
    "features = get_feature_importance(df, len(df.columns))"
   ]
  },
  {
   "cell_type": "code",
   "execution_count": 23,
   "metadata": {},
   "outputs": [],
   "source": [
    "df1 = df[[\"rides\", \"location\", \"year\", \"month\", \"day\", \"hour\", \"wday\", \"holiday\"]]"
   ]
  },
  {
   "cell_type": "code",
   "execution_count": 24,
   "metadata": {},
   "outputs": [],
   "source": [
    "# df1.to_csv(\"../taxi_data/dropoffs.csv\")"
   ]
  }
 ],
 "metadata": {
  "hide_input": false,
  "kernelspec": {
   "display_name": "Python [conda env:nf] *",
   "language": "python",
   "name": "conda-env-nf-py"
  },
  "language_info": {
   "codemirror_mode": {
    "name": "ipython",
    "version": 3
   },
   "file_extension": ".py",
   "mimetype": "text/x-python",
   "name": "python",
   "nbconvert_exporter": "python",
   "pygments_lexer": "ipython3",
   "version": "3.6.10"
  },
  "toc": {
   "base_numbering": 1,
   "nav_menu": {},
   "number_sections": true,
   "sideBar": true,
   "skip_h1_title": false,
   "title_cell": "Table of Contents",
   "title_sidebar": "Contents",
   "toc_cell": false,
   "toc_position": {},
   "toc_section_display": true,
   "toc_window_display": false
  },
  "varInspector": {
   "cols": {
    "lenName": 16,
    "lenType": 16,
    "lenVar": 40
   },
   "kernels_config": {
    "python": {
     "delete_cmd_postfix": "",
     "delete_cmd_prefix": "del ",
     "library": "var_list.py",
     "varRefreshCmd": "print(var_dic_list())"
    },
    "r": {
     "delete_cmd_postfix": ") ",
     "delete_cmd_prefix": "rm(",
     "library": "var_list.r",
     "varRefreshCmd": "cat(var_dic_list()) "
    }
   },
   "types_to_exclude": [
    "module",
    "function",
    "builtin_function_or_method",
    "instance",
    "_Feature"
   ],
   "window_display": false
  }
 },
 "nbformat": 4,
 "nbformat_minor": 4
}
