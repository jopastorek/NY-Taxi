{
 "cells": [
  {
   "cell_type": "code",
   "execution_count": 72,
   "metadata": {},
   "outputs": [],
   "source": [
    "reset -fs"
   ]
  },
  {
   "cell_type": "code",
   "execution_count": 73,
   "metadata": {},
   "outputs": [],
   "source": [
    "from datetime import date, datetime, timedelta, time\n",
    "import pandas as pd\n",
    "import numpy as np"
   ]
  },
  {
   "cell_type": "code",
   "execution_count": 74,
   "metadata": {},
   "outputs": [],
   "source": [
    "df = pd.read_csv(\"data/yellow_tripdata_2019-06.csv\", parse_dates=[\"tpep_pickup_datetime\", \"tpep_dropoff_datetime\"])"
   ]
  },
  {
   "cell_type": "code",
   "execution_count": 75,
   "metadata": {},
   "outputs": [],
   "source": [
    "df = df[[\"tpep_pickup_datetime\", \"tpep_dropoff_datetime\", \"trip_distance\", \"passenger_count\", \"PULocationID\", \"DOLocationID\"]]"
   ]
  },
  {
   "cell_type": "code",
   "execution_count": 76,
   "metadata": {},
   "outputs": [],
   "source": [
    "# zones lookup table for Borough and Zone name against ID\n",
    "zones = pd.read_csv('taxiZoneLookup.csv')#, index_col=\"LocationID\")\n",
    "#zones.index = zones.index.astype(str)"
   ]
  },
  {
   "cell_type": "code",
   "execution_count": 77,
   "metadata": {},
   "outputs": [],
   "source": [
    "df = df[df.trip_distance < 100]"
   ]
  },
  {
   "cell_type": "code",
   "execution_count": 78,
   "metadata": {},
   "outputs": [],
   "source": [
    "df = df[df.passenger_count != 0]"
   ]
  },
  {
   "cell_type": "code",
   "execution_count": 79,
   "metadata": {},
   "outputs": [
    {
     "data": {
      "text/html": [
       "<div>\n",
       "<style scoped>\n",
       "    .dataframe tbody tr th:only-of-type {\n",
       "        vertical-align: middle;\n",
       "    }\n",
       "\n",
       "    .dataframe tbody tr th {\n",
       "        vertical-align: top;\n",
       "    }\n",
       "\n",
       "    .dataframe thead th {\n",
       "        text-align: right;\n",
       "    }\n",
       "</style>\n",
       "<table border=\"1\" class=\"dataframe\">\n",
       "  <thead>\n",
       "    <tr style=\"text-align: right;\">\n",
       "      <th></th>\n",
       "      <th>tpep_pickup_datetime</th>\n",
       "      <th>tpep_dropoff_datetime</th>\n",
       "      <th>trip_distance</th>\n",
       "      <th>passenger_count</th>\n",
       "      <th>PULocationID</th>\n",
       "      <th>DOLocationID</th>\n",
       "    </tr>\n",
       "  </thead>\n",
       "  <tbody>\n",
       "    <tr>\n",
       "      <th>0</th>\n",
       "      <td>2019-06-01 00:55:13</td>\n",
       "      <td>2019-06-01 00:56:17</td>\n",
       "      <td>0.00</td>\n",
       "      <td>1</td>\n",
       "      <td>145</td>\n",
       "      <td>145</td>\n",
       "    </tr>\n",
       "    <tr>\n",
       "      <th>1</th>\n",
       "      <td>2019-06-01 00:06:31</td>\n",
       "      <td>2019-06-01 00:06:52</td>\n",
       "      <td>0.00</td>\n",
       "      <td>1</td>\n",
       "      <td>262</td>\n",
       "      <td>263</td>\n",
       "    </tr>\n",
       "    <tr>\n",
       "      <th>2</th>\n",
       "      <td>2019-06-01 00:17:05</td>\n",
       "      <td>2019-06-01 00:36:38</td>\n",
       "      <td>4.40</td>\n",
       "      <td>1</td>\n",
       "      <td>74</td>\n",
       "      <td>7</td>\n",
       "    </tr>\n",
       "    <tr>\n",
       "      <th>4</th>\n",
       "      <td>2019-06-01 00:03:25</td>\n",
       "      <td>2019-06-01 00:15:42</td>\n",
       "      <td>1.70</td>\n",
       "      <td>1</td>\n",
       "      <td>113</td>\n",
       "      <td>148</td>\n",
       "    </tr>\n",
       "    <tr>\n",
       "      <th>5</th>\n",
       "      <td>2019-06-01 00:28:31</td>\n",
       "      <td>2019-06-01 00:39:23</td>\n",
       "      <td>1.60</td>\n",
       "      <td>2</td>\n",
       "      <td>79</td>\n",
       "      <td>125</td>\n",
       "    </tr>\n",
       "    <tr>\n",
       "      <th>...</th>\n",
       "      <td>...</td>\n",
       "      <td>...</td>\n",
       "      <td>...</td>\n",
       "      <td>...</td>\n",
       "      <td>...</td>\n",
       "      <td>...</td>\n",
       "    </tr>\n",
       "    <tr>\n",
       "      <th>6941019</th>\n",
       "      <td>2019-06-30 23:23:03</td>\n",
       "      <td>2019-06-30 23:39:48</td>\n",
       "      <td>0.90</td>\n",
       "      <td>1</td>\n",
       "      <td>68</td>\n",
       "      <td>158</td>\n",
       "    </tr>\n",
       "    <tr>\n",
       "      <th>6941020</th>\n",
       "      <td>2019-06-30 23:50:22</td>\n",
       "      <td>2019-06-30 23:57:01</td>\n",
       "      <td>0.50</td>\n",
       "      <td>1</td>\n",
       "      <td>246</td>\n",
       "      <td>90</td>\n",
       "    </tr>\n",
       "    <tr>\n",
       "      <th>6941021</th>\n",
       "      <td>2019-06-30 23:58:32</td>\n",
       "      <td>2019-07-01 00:00:42</td>\n",
       "      <td>0.20</td>\n",
       "      <td>1</td>\n",
       "      <td>90</td>\n",
       "      <td>186</td>\n",
       "    </tr>\n",
       "    <tr>\n",
       "      <th>6941022</th>\n",
       "      <td>2019-06-30 23:23:10</td>\n",
       "      <td>2019-06-30 23:30:45</td>\n",
       "      <td>1.38</td>\n",
       "      <td>1</td>\n",
       "      <td>140</td>\n",
       "      <td>163</td>\n",
       "    </tr>\n",
       "    <tr>\n",
       "      <th>6941023</th>\n",
       "      <td>2019-06-30 23:39:13</td>\n",
       "      <td>2019-06-30 23:44:56</td>\n",
       "      <td>1.77</td>\n",
       "      <td>2</td>\n",
       "      <td>142</td>\n",
       "      <td>151</td>\n",
       "    </tr>\n",
       "  </tbody>\n",
       "</table>\n",
       "<p>6812858 rows × 6 columns</p>\n",
       "</div>"
      ],
      "text/plain": [
       "        tpep_pickup_datetime tpep_dropoff_datetime  trip_distance  \\\n",
       "0        2019-06-01 00:55:13   2019-06-01 00:56:17           0.00   \n",
       "1        2019-06-01 00:06:31   2019-06-01 00:06:52           0.00   \n",
       "2        2019-06-01 00:17:05   2019-06-01 00:36:38           4.40   \n",
       "4        2019-06-01 00:03:25   2019-06-01 00:15:42           1.70   \n",
       "5        2019-06-01 00:28:31   2019-06-01 00:39:23           1.60   \n",
       "...                      ...                   ...            ...   \n",
       "6941019  2019-06-30 23:23:03   2019-06-30 23:39:48           0.90   \n",
       "6941020  2019-06-30 23:50:22   2019-06-30 23:57:01           0.50   \n",
       "6941021  2019-06-30 23:58:32   2019-07-01 00:00:42           0.20   \n",
       "6941022  2019-06-30 23:23:10   2019-06-30 23:30:45           1.38   \n",
       "6941023  2019-06-30 23:39:13   2019-06-30 23:44:56           1.77   \n",
       "\n",
       "         passenger_count  PULocationID  DOLocationID  \n",
       "0                      1           145           145  \n",
       "1                      1           262           263  \n",
       "2                      1            74             7  \n",
       "4                      1           113           148  \n",
       "5                      2            79           125  \n",
       "...                  ...           ...           ...  \n",
       "6941019                1            68           158  \n",
       "6941020                1           246            90  \n",
       "6941021                1            90           186  \n",
       "6941022                1           140           163  \n",
       "6941023                2           142           151  \n",
       "\n",
       "[6812858 rows x 6 columns]"
      ]
     },
     "execution_count": 79,
     "metadata": {},
     "output_type": "execute_result"
    }
   ],
   "source": [
    "df"
   ]
  },
  {
   "cell_type": "code",
   "execution_count": 80,
   "metadata": {},
   "outputs": [],
   "source": [
    "df[\"trip_duration\"] = df[\"tpep_dropoff_datetime\"] - df[\"tpep_pickup_datetime\"]"
   ]
  },
  {
   "cell_type": "code",
   "execution_count": 81,
   "metadata": {},
   "outputs": [],
   "source": [
    "df = df[(df.trip_duration > timedelta(minutes=1)) & (df.trip_duration < timedelta(hours=2))]"
   ]
  },
  {
   "cell_type": "code",
   "execution_count": 82,
   "metadata": {},
   "outputs": [
    {
     "name": "stderr",
     "output_type": "stream",
     "text": [
      "C:\\Users\\johan\\anaconda3\\lib\\site-packages\\pandas\\core\\frame.py:4125: SettingWithCopyWarning: \n",
      "A value is trying to be set on a copy of a slice from a DataFrame\n",
      "\n",
      "See the caveats in the documentation: https://pandas.pydata.org/pandas-docs/stable/user_guide/indexing.html#returning-a-view-versus-a-copy\n",
      "  return super().rename(\n"
     ]
    }
   ],
   "source": [
    "df.rename(columns={\"PULocationID\": \"LocationID\"}, inplace=True)\n",
    "df = pd.merge(df, zones[[\"LocationID\", \"Borough\"]], on=\"LocationID\", how=\"left\")\n",
    "df = pd.merge(df, zones[[\"LocationID\", \"Zone\"]], on=\"LocationID\", how=\"left\")\n",
    "df.rename(columns={\"LocationID\": \"PULocationID\", \"Borough\": \"PUBorough\", \"Zone\": \"PUZone\"}, inplace=True)"
   ]
  },
  {
   "cell_type": "code",
   "execution_count": 83,
   "metadata": {},
   "outputs": [],
   "source": [
    "df.rename(columns={\"DOLocationID\": \"LocationID\"}, inplace=True)\n",
    "df = pd.merge(df, zones[[\"LocationID\", \"Borough\"]], on=\"LocationID\", how=\"left\")\n",
    "df = pd.merge(df, zones[[\"LocationID\", \"Zone\"]], on=\"LocationID\", how=\"left\")\n",
    "df.rename(columns={\"LocationID\": \"DOLocationID\", \"Borough\": \"DOBorough\", \"Zone\": \"DOZone\"}, inplace=True)"
   ]
  },
  {
   "cell_type": "code",
   "execution_count": 84,
   "metadata": {},
   "outputs": [
    {
     "data": {
      "text/html": [
       "<div>\n",
       "<style scoped>\n",
       "    .dataframe tbody tr th:only-of-type {\n",
       "        vertical-align: middle;\n",
       "    }\n",
       "\n",
       "    .dataframe tbody tr th {\n",
       "        vertical-align: top;\n",
       "    }\n",
       "\n",
       "    .dataframe thead th {\n",
       "        text-align: right;\n",
       "    }\n",
       "</style>\n",
       "<table border=\"1\" class=\"dataframe\">\n",
       "  <thead>\n",
       "    <tr style=\"text-align: right;\">\n",
       "      <th></th>\n",
       "      <th>tpep_pickup_datetime</th>\n",
       "      <th>tpep_dropoff_datetime</th>\n",
       "      <th>trip_distance</th>\n",
       "      <th>passenger_count</th>\n",
       "      <th>PULocationID</th>\n",
       "      <th>DOLocationID</th>\n",
       "      <th>trip_duration</th>\n",
       "      <th>PUBorough</th>\n",
       "      <th>PUZone</th>\n",
       "      <th>DOBorough</th>\n",
       "      <th>DOZone</th>\n",
       "    </tr>\n",
       "  </thead>\n",
       "  <tbody>\n",
       "    <tr>\n",
       "      <th>0</th>\n",
       "      <td>2019-06-01 00:55:13</td>\n",
       "      <td>2019-06-01 00:56:17</td>\n",
       "      <td>0.00</td>\n",
       "      <td>1</td>\n",
       "      <td>145</td>\n",
       "      <td>145</td>\n",
       "      <td>00:01:04</td>\n",
       "      <td>Queens</td>\n",
       "      <td>Long Island City/Hunters Point</td>\n",
       "      <td>Queens</td>\n",
       "      <td>Long Island City/Hunters Point</td>\n",
       "    </tr>\n",
       "    <tr>\n",
       "      <th>1</th>\n",
       "      <td>2019-06-01 00:17:05</td>\n",
       "      <td>2019-06-01 00:36:38</td>\n",
       "      <td>4.40</td>\n",
       "      <td>1</td>\n",
       "      <td>74</td>\n",
       "      <td>7</td>\n",
       "      <td>00:19:33</td>\n",
       "      <td>Manhattan</td>\n",
       "      <td>East Harlem North</td>\n",
       "      <td>Queens</td>\n",
       "      <td>Astoria</td>\n",
       "    </tr>\n",
       "    <tr>\n",
       "      <th>2</th>\n",
       "      <td>2019-06-01 00:03:25</td>\n",
       "      <td>2019-06-01 00:15:42</td>\n",
       "      <td>1.70</td>\n",
       "      <td>1</td>\n",
       "      <td>113</td>\n",
       "      <td>148</td>\n",
       "      <td>00:12:17</td>\n",
       "      <td>Manhattan</td>\n",
       "      <td>Greenwich Village North</td>\n",
       "      <td>Manhattan</td>\n",
       "      <td>Lower East Side</td>\n",
       "    </tr>\n",
       "    <tr>\n",
       "      <th>3</th>\n",
       "      <td>2019-06-01 00:28:31</td>\n",
       "      <td>2019-06-01 00:39:23</td>\n",
       "      <td>1.60</td>\n",
       "      <td>2</td>\n",
       "      <td>79</td>\n",
       "      <td>125</td>\n",
       "      <td>00:10:52</td>\n",
       "      <td>Manhattan</td>\n",
       "      <td>East Village</td>\n",
       "      <td>Manhattan</td>\n",
       "      <td>Hudson Sq</td>\n",
       "    </tr>\n",
       "    <tr>\n",
       "      <th>4</th>\n",
       "      <td>2019-06-01 00:46:46</td>\n",
       "      <td>2019-06-01 00:50:55</td>\n",
       "      <td>0.60</td>\n",
       "      <td>4</td>\n",
       "      <td>211</td>\n",
       "      <td>148</td>\n",
       "      <td>00:04:09</td>\n",
       "      <td>Manhattan</td>\n",
       "      <td>SoHo</td>\n",
       "      <td>Manhattan</td>\n",
       "      <td>Lower East Side</td>\n",
       "    </tr>\n",
       "    <tr>\n",
       "      <th>...</th>\n",
       "      <td>...</td>\n",
       "      <td>...</td>\n",
       "      <td>...</td>\n",
       "      <td>...</td>\n",
       "      <td>...</td>\n",
       "      <td>...</td>\n",
       "      <td>...</td>\n",
       "      <td>...</td>\n",
       "      <td>...</td>\n",
       "      <td>...</td>\n",
       "      <td>...</td>\n",
       "    </tr>\n",
       "    <tr>\n",
       "      <th>6720063</th>\n",
       "      <td>2019-06-30 23:23:03</td>\n",
       "      <td>2019-06-30 23:39:48</td>\n",
       "      <td>0.90</td>\n",
       "      <td>1</td>\n",
       "      <td>68</td>\n",
       "      <td>158</td>\n",
       "      <td>00:16:45</td>\n",
       "      <td>Manhattan</td>\n",
       "      <td>East Chelsea</td>\n",
       "      <td>Manhattan</td>\n",
       "      <td>Meatpacking/West Village West</td>\n",
       "    </tr>\n",
       "    <tr>\n",
       "      <th>6720064</th>\n",
       "      <td>2019-06-30 23:50:22</td>\n",
       "      <td>2019-06-30 23:57:01</td>\n",
       "      <td>0.50</td>\n",
       "      <td>1</td>\n",
       "      <td>246</td>\n",
       "      <td>90</td>\n",
       "      <td>00:06:39</td>\n",
       "      <td>Manhattan</td>\n",
       "      <td>West Chelsea/Hudson Yards</td>\n",
       "      <td>Manhattan</td>\n",
       "      <td>Flatiron</td>\n",
       "    </tr>\n",
       "    <tr>\n",
       "      <th>6720065</th>\n",
       "      <td>2019-06-30 23:58:32</td>\n",
       "      <td>2019-07-01 00:00:42</td>\n",
       "      <td>0.20</td>\n",
       "      <td>1</td>\n",
       "      <td>90</td>\n",
       "      <td>186</td>\n",
       "      <td>00:02:10</td>\n",
       "      <td>Manhattan</td>\n",
       "      <td>Flatiron</td>\n",
       "      <td>Manhattan</td>\n",
       "      <td>Penn Station/Madison Sq West</td>\n",
       "    </tr>\n",
       "    <tr>\n",
       "      <th>6720066</th>\n",
       "      <td>2019-06-30 23:23:10</td>\n",
       "      <td>2019-06-30 23:30:45</td>\n",
       "      <td>1.38</td>\n",
       "      <td>1</td>\n",
       "      <td>140</td>\n",
       "      <td>163</td>\n",
       "      <td>00:07:35</td>\n",
       "      <td>Manhattan</td>\n",
       "      <td>Lenox Hill East</td>\n",
       "      <td>Manhattan</td>\n",
       "      <td>Midtown North</td>\n",
       "    </tr>\n",
       "    <tr>\n",
       "      <th>6720067</th>\n",
       "      <td>2019-06-30 23:39:13</td>\n",
       "      <td>2019-06-30 23:44:56</td>\n",
       "      <td>1.77</td>\n",
       "      <td>2</td>\n",
       "      <td>142</td>\n",
       "      <td>151</td>\n",
       "      <td>00:05:43</td>\n",
       "      <td>Manhattan</td>\n",
       "      <td>Lincoln Square East</td>\n",
       "      <td>Manhattan</td>\n",
       "      <td>Manhattan Valley</td>\n",
       "    </tr>\n",
       "  </tbody>\n",
       "</table>\n",
       "<p>6720068 rows × 11 columns</p>\n",
       "</div>"
      ],
      "text/plain": [
       "        tpep_pickup_datetime tpep_dropoff_datetime  trip_distance  \\\n",
       "0        2019-06-01 00:55:13   2019-06-01 00:56:17           0.00   \n",
       "1        2019-06-01 00:17:05   2019-06-01 00:36:38           4.40   \n",
       "2        2019-06-01 00:03:25   2019-06-01 00:15:42           1.70   \n",
       "3        2019-06-01 00:28:31   2019-06-01 00:39:23           1.60   \n",
       "4        2019-06-01 00:46:46   2019-06-01 00:50:55           0.60   \n",
       "...                      ...                   ...            ...   \n",
       "6720063  2019-06-30 23:23:03   2019-06-30 23:39:48           0.90   \n",
       "6720064  2019-06-30 23:50:22   2019-06-30 23:57:01           0.50   \n",
       "6720065  2019-06-30 23:58:32   2019-07-01 00:00:42           0.20   \n",
       "6720066  2019-06-30 23:23:10   2019-06-30 23:30:45           1.38   \n",
       "6720067  2019-06-30 23:39:13   2019-06-30 23:44:56           1.77   \n",
       "\n",
       "         passenger_count  PULocationID  DOLocationID trip_duration  PUBorough  \\\n",
       "0                      1           145           145      00:01:04     Queens   \n",
       "1                      1            74             7      00:19:33  Manhattan   \n",
       "2                      1           113           148      00:12:17  Manhattan   \n",
       "3                      2            79           125      00:10:52  Manhattan   \n",
       "4                      4           211           148      00:04:09  Manhattan   \n",
       "...                  ...           ...           ...           ...        ...   \n",
       "6720063                1            68           158      00:16:45  Manhattan   \n",
       "6720064                1           246            90      00:06:39  Manhattan   \n",
       "6720065                1            90           186      00:02:10  Manhattan   \n",
       "6720066                1           140           163      00:07:35  Manhattan   \n",
       "6720067                2           142           151      00:05:43  Manhattan   \n",
       "\n",
       "                                 PUZone  DOBorough  \\\n",
       "0        Long Island City/Hunters Point     Queens   \n",
       "1                     East Harlem North     Queens   \n",
       "2               Greenwich Village North  Manhattan   \n",
       "3                          East Village  Manhattan   \n",
       "4                                  SoHo  Manhattan   \n",
       "...                                 ...        ...   \n",
       "6720063                    East Chelsea  Manhattan   \n",
       "6720064       West Chelsea/Hudson Yards  Manhattan   \n",
       "6720065                        Flatiron  Manhattan   \n",
       "6720066                 Lenox Hill East  Manhattan   \n",
       "6720067             Lincoln Square East  Manhattan   \n",
       "\n",
       "                                 DOZone  \n",
       "0        Long Island City/Hunters Point  \n",
       "1                               Astoria  \n",
       "2                       Lower East Side  \n",
       "3                             Hudson Sq  \n",
       "4                       Lower East Side  \n",
       "...                                 ...  \n",
       "6720063   Meatpacking/West Village West  \n",
       "6720064                        Flatiron  \n",
       "6720065    Penn Station/Madison Sq West  \n",
       "6720066                   Midtown North  \n",
       "6720067                Manhattan Valley  \n",
       "\n",
       "[6720068 rows x 11 columns]"
      ]
     },
     "execution_count": 84,
     "metadata": {},
     "output_type": "execute_result"
    }
   ],
   "source": [
    "df"
   ]
  },
  {
   "cell_type": "code",
   "execution_count": 85,
   "metadata": {},
   "outputs": [],
   "source": [
    "boroughs = [\"Manhattan\"]\n",
    "df = df[df.PUBorough.isin(boroughs) & df.DOBorough.isin(boroughs)]"
   ]
  },
  {
   "cell_type": "code",
   "execution_count": 86,
   "metadata": {},
   "outputs": [],
   "source": [
    "df = df[[\"tpep_pickup_datetime\", \"tpep_dropoff_datetime\", \"PULocationID\", \"DOLocationID\"]]"
   ]
  },
  {
   "cell_type": "code",
   "execution_count": 87,
   "metadata": {},
   "outputs": [
    {
     "data": {
      "text/html": [
       "<div>\n",
       "<style scoped>\n",
       "    .dataframe tbody tr th:only-of-type {\n",
       "        vertical-align: middle;\n",
       "    }\n",
       "\n",
       "    .dataframe tbody tr th {\n",
       "        vertical-align: top;\n",
       "    }\n",
       "\n",
       "    .dataframe thead th {\n",
       "        text-align: right;\n",
       "    }\n",
       "</style>\n",
       "<table border=\"1\" class=\"dataframe\">\n",
       "  <thead>\n",
       "    <tr style=\"text-align: right;\">\n",
       "      <th></th>\n",
       "      <th>tpep_pickup_datetime</th>\n",
       "      <th>tpep_dropoff_datetime</th>\n",
       "      <th>PULocationID</th>\n",
       "      <th>DOLocationID</th>\n",
       "    </tr>\n",
       "  </thead>\n",
       "  <tbody>\n",
       "    <tr>\n",
       "      <th>2</th>\n",
       "      <td>2019-06-01 00:03:25</td>\n",
       "      <td>2019-06-01 00:15:42</td>\n",
       "      <td>113</td>\n",
       "      <td>148</td>\n",
       "    </tr>\n",
       "    <tr>\n",
       "      <th>3</th>\n",
       "      <td>2019-06-01 00:28:31</td>\n",
       "      <td>2019-06-01 00:39:23</td>\n",
       "      <td>79</td>\n",
       "      <td>125</td>\n",
       "    </tr>\n",
       "    <tr>\n",
       "      <th>4</th>\n",
       "      <td>2019-06-01 00:46:46</td>\n",
       "      <td>2019-06-01 00:50:55</td>\n",
       "      <td>211</td>\n",
       "      <td>148</td>\n",
       "    </tr>\n",
       "    <tr>\n",
       "      <th>5</th>\n",
       "      <td>2019-06-01 00:54:49</td>\n",
       "      <td>2019-06-01 01:02:57</td>\n",
       "      <td>79</td>\n",
       "      <td>249</td>\n",
       "    </tr>\n",
       "    <tr>\n",
       "      <th>6</th>\n",
       "      <td>2019-06-01 00:09:57</td>\n",
       "      <td>2019-06-01 00:25:54</td>\n",
       "      <td>158</td>\n",
       "      <td>68</td>\n",
       "    </tr>\n",
       "    <tr>\n",
       "      <th>...</th>\n",
       "      <td>...</td>\n",
       "      <td>...</td>\n",
       "      <td>...</td>\n",
       "      <td>...</td>\n",
       "    </tr>\n",
       "    <tr>\n",
       "      <th>6720063</th>\n",
       "      <td>2019-06-30 23:23:03</td>\n",
       "      <td>2019-06-30 23:39:48</td>\n",
       "      <td>68</td>\n",
       "      <td>158</td>\n",
       "    </tr>\n",
       "    <tr>\n",
       "      <th>6720064</th>\n",
       "      <td>2019-06-30 23:50:22</td>\n",
       "      <td>2019-06-30 23:57:01</td>\n",
       "      <td>246</td>\n",
       "      <td>90</td>\n",
       "    </tr>\n",
       "    <tr>\n",
       "      <th>6720065</th>\n",
       "      <td>2019-06-30 23:58:32</td>\n",
       "      <td>2019-07-01 00:00:42</td>\n",
       "      <td>90</td>\n",
       "      <td>186</td>\n",
       "    </tr>\n",
       "    <tr>\n",
       "      <th>6720066</th>\n",
       "      <td>2019-06-30 23:23:10</td>\n",
       "      <td>2019-06-30 23:30:45</td>\n",
       "      <td>140</td>\n",
       "      <td>163</td>\n",
       "    </tr>\n",
       "    <tr>\n",
       "      <th>6720067</th>\n",
       "      <td>2019-06-30 23:39:13</td>\n",
       "      <td>2019-06-30 23:44:56</td>\n",
       "      <td>142</td>\n",
       "      <td>151</td>\n",
       "    </tr>\n",
       "  </tbody>\n",
       "</table>\n",
       "<p>5653167 rows × 4 columns</p>\n",
       "</div>"
      ],
      "text/plain": [
       "        tpep_pickup_datetime tpep_dropoff_datetime  PULocationID  DOLocationID\n",
       "2        2019-06-01 00:03:25   2019-06-01 00:15:42           113           148\n",
       "3        2019-06-01 00:28:31   2019-06-01 00:39:23            79           125\n",
       "4        2019-06-01 00:46:46   2019-06-01 00:50:55           211           148\n",
       "5        2019-06-01 00:54:49   2019-06-01 01:02:57            79           249\n",
       "6        2019-06-01 00:09:57   2019-06-01 00:25:54           158            68\n",
       "...                      ...                   ...           ...           ...\n",
       "6720063  2019-06-30 23:23:03   2019-06-30 23:39:48            68           158\n",
       "6720064  2019-06-30 23:50:22   2019-06-30 23:57:01           246            90\n",
       "6720065  2019-06-30 23:58:32   2019-07-01 00:00:42            90           186\n",
       "6720066  2019-06-30 23:23:10   2019-06-30 23:30:45           140           163\n",
       "6720067  2019-06-30 23:39:13   2019-06-30 23:44:56           142           151\n",
       "\n",
       "[5653167 rows x 4 columns]"
      ]
     },
     "execution_count": 87,
     "metadata": {},
     "output_type": "execute_result"
    }
   ],
   "source": [
    "df"
   ]
  },
  {
   "cell_type": "code",
   "execution_count": 88,
   "metadata": {},
   "outputs": [],
   "source": [
    "df[\"tpep_pickup_datetime\"] = df[\"tpep_pickup_datetime\"].apply(lambda x: x - timedelta(minutes=x.minute % 60, seconds=x.second))\n",
    "#df[\"tpep_dropoff_datetime\"] = df[\"tpep_dropoff_datetime\"].apply(lambda x: x - timedelta(minutes=x.minute % 60, seconds=x.second))"
   ]
  },
  {
   "cell_type": "code",
   "execution_count": 89,
   "metadata": {},
   "outputs": [],
   "source": [
    "puDf = df[[\"tpep_pickup_datetime\", \"PULocationID\", \"DOLocationID\"]]"
   ]
  },
  {
   "cell_type": "code",
   "execution_count": 90,
   "metadata": {},
   "outputs": [
    {
     "data": {
      "text/html": [
       "<div>\n",
       "<style scoped>\n",
       "    .dataframe tbody tr th:only-of-type {\n",
       "        vertical-align: middle;\n",
       "    }\n",
       "\n",
       "    .dataframe tbody tr th {\n",
       "        vertical-align: top;\n",
       "    }\n",
       "\n",
       "    .dataframe thead th {\n",
       "        text-align: right;\n",
       "    }\n",
       "</style>\n",
       "<table border=\"1\" class=\"dataframe\">\n",
       "  <thead>\n",
       "    <tr style=\"text-align: right;\">\n",
       "      <th></th>\n",
       "      <th>tpep_pickup_datetime</th>\n",
       "      <th>PULocationID</th>\n",
       "      <th>DOLocationID</th>\n",
       "    </tr>\n",
       "  </thead>\n",
       "  <tbody>\n",
       "    <tr>\n",
       "      <th>2</th>\n",
       "      <td>2019-06-01 00:00:00</td>\n",
       "      <td>113</td>\n",
       "      <td>148</td>\n",
       "    </tr>\n",
       "    <tr>\n",
       "      <th>3</th>\n",
       "      <td>2019-06-01 00:00:00</td>\n",
       "      <td>79</td>\n",
       "      <td>125</td>\n",
       "    </tr>\n",
       "    <tr>\n",
       "      <th>4</th>\n",
       "      <td>2019-06-01 00:00:00</td>\n",
       "      <td>211</td>\n",
       "      <td>148</td>\n",
       "    </tr>\n",
       "    <tr>\n",
       "      <th>5</th>\n",
       "      <td>2019-06-01 00:00:00</td>\n",
       "      <td>79</td>\n",
       "      <td>249</td>\n",
       "    </tr>\n",
       "    <tr>\n",
       "      <th>6</th>\n",
       "      <td>2019-06-01 00:00:00</td>\n",
       "      <td>158</td>\n",
       "      <td>68</td>\n",
       "    </tr>\n",
       "    <tr>\n",
       "      <th>...</th>\n",
       "      <td>...</td>\n",
       "      <td>...</td>\n",
       "      <td>...</td>\n",
       "    </tr>\n",
       "    <tr>\n",
       "      <th>6720063</th>\n",
       "      <td>2019-06-30 23:00:00</td>\n",
       "      <td>68</td>\n",
       "      <td>158</td>\n",
       "    </tr>\n",
       "    <tr>\n",
       "      <th>6720064</th>\n",
       "      <td>2019-06-30 23:00:00</td>\n",
       "      <td>246</td>\n",
       "      <td>90</td>\n",
       "    </tr>\n",
       "    <tr>\n",
       "      <th>6720065</th>\n",
       "      <td>2019-06-30 23:00:00</td>\n",
       "      <td>90</td>\n",
       "      <td>186</td>\n",
       "    </tr>\n",
       "    <tr>\n",
       "      <th>6720066</th>\n",
       "      <td>2019-06-30 23:00:00</td>\n",
       "      <td>140</td>\n",
       "      <td>163</td>\n",
       "    </tr>\n",
       "    <tr>\n",
       "      <th>6720067</th>\n",
       "      <td>2019-06-30 23:00:00</td>\n",
       "      <td>142</td>\n",
       "      <td>151</td>\n",
       "    </tr>\n",
       "  </tbody>\n",
       "</table>\n",
       "<p>5653167 rows × 3 columns</p>\n",
       "</div>"
      ],
      "text/plain": [
       "        tpep_pickup_datetime  PULocationID  DOLocationID\n",
       "2        2019-06-01 00:00:00           113           148\n",
       "3        2019-06-01 00:00:00            79           125\n",
       "4        2019-06-01 00:00:00           211           148\n",
       "5        2019-06-01 00:00:00            79           249\n",
       "6        2019-06-01 00:00:00           158            68\n",
       "...                      ...           ...           ...\n",
       "6720063  2019-06-30 23:00:00            68           158\n",
       "6720064  2019-06-30 23:00:00           246            90\n",
       "6720065  2019-06-30 23:00:00            90           186\n",
       "6720066  2019-06-30 23:00:00           140           163\n",
       "6720067  2019-06-30 23:00:00           142           151\n",
       "\n",
       "[5653167 rows x 3 columns]"
      ]
     },
     "execution_count": 90,
     "metadata": {},
     "output_type": "execute_result"
    }
   ],
   "source": [
    "puDf"
   ]
  },
  {
   "cell_type": "code",
   "execution_count": null,
   "metadata": {},
   "outputs": [],
   "source": []
  },
  {
   "cell_type": "code",
   "execution_count": null,
   "metadata": {},
   "outputs": [],
   "source": []
  },
  {
   "cell_type": "code",
   "execution_count": null,
   "metadata": {},
   "outputs": [],
   "source": []
  },
  {
   "cell_type": "code",
   "execution_count": null,
   "metadata": {},
   "outputs": [],
   "source": []
  },
  {
   "cell_type": "code",
   "execution_count": null,
   "metadata": {},
   "outputs": [],
   "source": []
  },
  {
   "cell_type": "code",
   "execution_count": null,
   "metadata": {},
   "outputs": [],
   "source": []
  },
  {
   "cell_type": "code",
   "execution_count": null,
   "metadata": {},
   "outputs": [],
   "source": []
  },
  {
   "cell_type": "code",
   "execution_count": null,
   "metadata": {},
   "outputs": [],
   "source": []
  },
  {
   "cell_type": "code",
   "execution_count": null,
   "metadata": {},
   "outputs": [],
   "source": []
  },
  {
   "cell_type": "code",
   "execution_count": 13,
   "metadata": {},
   "outputs": [],
   "source": [
    "df[\"from_to\"] = df.PUBorough + \"-\" + df.DOBorough"
   ]
  },
  {
   "cell_type": "code",
   "execution_count": 214,
   "metadata": {},
   "outputs": [
    {
     "data": {
      "text/plain": [
       "from_to\n",
       "Brooklyn-Brooklyn        49291\n",
       "Brooklyn-Manhattan       24533\n",
       "Brooklyn-Queens           5352\n",
       "Manhattan-Brooklyn      165875\n",
       "Manhattan-Manhattan    5653167\n",
       "Manhattan-Queens        218873\n",
       "Queens-Brooklyn          63141\n",
       "Queens-Manhattan        258705\n",
       "Queens-Queens           141601\n",
       "Name: tpep_pickup_datetime, dtype: int64"
      ]
     },
     "execution_count": 214,
     "metadata": {},
     "output_type": "execute_result"
    }
   ],
   "source": [
    "df.groupby(\"from_to\").count()[\"tpep_pickup_datetime\"]"
   ]
  },
  {
   "cell_type": "code",
   "execution_count": 215,
   "metadata": {},
   "outputs": [],
   "source": [
    "topPU = df.groupby([\"PULocationID\"]).count()[\"tpep_pickup_datetime\"].sort_values(ascending=False)[:30]"
   ]
  },
  {
   "cell_type": "code",
   "execution_count": 216,
   "metadata": {},
   "outputs": [],
   "source": [
    "topDO = df.groupby([\"DOLocationID\"]).count()[\"tpep_pickup_datetime\"].sort_values(ascending=False)[:30]"
   ]
  },
  {
   "cell_type": "code",
   "execution_count": 217,
   "metadata": {},
   "outputs": [
    {
     "data": {
      "text/plain": [
       "<matplotlib.axes._subplots.AxesSubplot at 0x1c62ff9c9a0>"
      ]
     },
     "execution_count": 217,
     "metadata": {},
     "output_type": "execute_result"
    },
    {
     "data": {
      "image/png": "[encoded data removed]",
      "text/plain": [
       "<Figure size 432x288 with 1 Axes>"
      ]
     },
     "metadata": {
      "needs_background": "light"
     },
     "output_type": "display_data"
    }
   ],
   "source": [
    "df[df.PUZone==\"LaGuardia Airport\"].DOBorough.hist()"
   ]
  },
  {
   "cell_type": "code",
   "execution_count": 218,
   "metadata": {},
   "outputs": [
    {
     "data": {
      "text/plain": [
       "<matplotlib.axes._subplots.AxesSubplot at 0x1c62bcd5ac0>"
      ]
     },
     "execution_count": 218,
     "metadata": {},
     "output_type": "execute_result"
    },
    {
     "data": {
      "image/png": "[encoded data removed]",
      "text/plain": [
       "<Figure size 432x288 with 1 Axes>"
      ]
     },
     "metadata": {
      "needs_background": "light"
     },
     "output_type": "display_data"
    }
   ],
   "source": [
    "df[df.DOZone==\"LaGuardia Airport\"].PUBorough.hist()"
   ]
  },
  {
   "cell_type": "code",
   "execution_count": 219,
   "metadata": {},
   "outputs": [
    {
     "data": {
      "text/plain": [
       "<matplotlib.axes._subplots.AxesSubplot at 0x1c6460d6760>"
      ]
     },
     "execution_count": 219,
     "metadata": {},
     "output_type": "execute_result"
    },
    {
     "data": {
      "image/png": "[encoded data removed]",
      "text/plain": [
       "<Figure size 432x288 with 1 Axes>"
      ]
     },
     "metadata": {
      "needs_background": "light"
     },
     "output_type": "display_data"
    }
   ],
   "source": [
    "df[df.PUZone==\"JFK Airport\"].DOBorough.hist()"
   ]
  },
  {
   "cell_type": "code",
   "execution_count": 220,
   "metadata": {},
   "outputs": [
    {
     "data": {
      "text/plain": [
       "<matplotlib.axes._subplots.AxesSubplot at 0x1c6460a17f0>"
      ]
     },
     "execution_count": 220,
     "metadata": {},
     "output_type": "execute_result"
    },
    {
     "data": {
      "image/png": "[encoded data removed]",
      "text/plain": [
       "<Figure size 432x288 with 1 Axes>"
      ]
     },
     "metadata": {
      "needs_background": "light"
     },
     "output_type": "display_data"
    }
   ],
   "source": [
    "df[df.DOZone==\"JFK Airport\"].PUBorough.hist()"
   ]
  },
  {
   "cell_type": "code",
   "execution_count": 221,
   "metadata": {},
   "outputs": [
    {
     "data": {
      "text/plain": [
       "<matplotlib.axes._subplots.AxesSubplot at 0x1c64624e2b0>"
      ]
     },
     "execution_count": 221,
     "metadata": {},
     "output_type": "execute_result"
    },
    {
     "data": {
      "image/png": "[encoded data removed]",
      "text/plain": [
       "<Figure size 432x288 with 1 Axes>"
      ]
     },
     "metadata": {
      "needs_background": "light"
     },
     "output_type": "display_data"
    }
   ],
   "source": [
    "df[df.PUZone==\"Newark Airport\"].DOBorough.hist()"
   ]
  },
  {
   "cell_type": "code",
   "execution_count": 223,
   "metadata": {},
   "outputs": [],
   "source": [
    "fromAirport = df[(df.PUZone==\"JFK Airport\") | (df.PUZone==\"LaGuardia Airport\")]"
   ]
  },
  {
   "cell_type": "code",
   "execution_count": 225,
   "metadata": {},
   "outputs": [],
   "source": [
    "toAirport = df[(df.DOZone==\"JFK Airport\") | (df.DOZone==\"LaGuardia Airport\")]"
   ]
  },
  {
   "cell_type": "code",
   "execution_count": 229,
   "metadata": {},
   "outputs": [],
   "source": [
    "jfkTest = fromAirport[fromAirport.PUZone == \"JFK Airport\"]"
   ]
  },
  {
   "cell_type": "code",
   "execution_count": 233,
   "metadata": {},
   "outputs": [],
   "source": [
    "jfkTest = jfkTest[[\"tpep_dropoff_datetime\", \"DOLocationID\", \"DOBorough\"]]"
   ]
  },
  {
   "cell_type": "code",
   "execution_count": 234,
   "metadata": {},
   "outputs": [],
   "source": [
    "jfkTest[\"time_bin\"] = jfkTest[\"tpep_dropoff_datetime\"].apply(lambda x: x - timedelta(minutes=x.minute % 15, seconds=x.second))"
   ]
  },
  {
   "cell_type": "code",
   "execution_count": 236,
   "metadata": {},
   "outputs": [],
   "source": [
    "jfkTest = jfkTest.drop(columns=[\"tpep_dropoff_datetime\", \"DOLocationID\"])"
   ]
  },
  {
   "cell_type": "code",
   "execution_count": 239,
   "metadata": {},
   "outputs": [],
   "source": [
    "jfkTest1 = pd.concat([jfkTest, pd.get_dummies(jfkTest.DOBorough)], axis=1)"
   ]
  },
  {
   "cell_type": "code",
   "execution_count": 242,
   "metadata": {},
   "outputs": [
    {
     "data": {
      "text/html": [
       "<div>\n",
       "<style scoped>\n",
       "    .dataframe tbody tr th:only-of-type {\n",
       "        vertical-align: middle;\n",
       "    }\n",
       "\n",
       "    .dataframe tbody tr th {\n",
       "        vertical-align: top;\n",
       "    }\n",
       "\n",
       "    .dataframe thead th {\n",
       "        text-align: right;\n",
       "    }\n",
       "</style>\n",
       "<table border=\"1\" class=\"dataframe\">\n",
       "  <thead>\n",
       "    <tr style=\"text-align: right;\">\n",
       "      <th></th>\n",
       "      <th>Brooklyn</th>\n",
       "      <th>Manhattan</th>\n",
       "      <th>Queens</th>\n",
       "    </tr>\n",
       "    <tr>\n",
       "      <th>time_bin</th>\n",
       "      <th></th>\n",
       "      <th></th>\n",
       "      <th></th>\n",
       "    </tr>\n",
       "  </thead>\n",
       "  <tbody>\n",
       "    <tr>\n",
       "      <th>2008-12-31 23:15:00</th>\n",
       "      <td>0</td>\n",
       "      <td>0</td>\n",
       "      <td>1</td>\n",
       "    </tr>\n",
       "    <tr>\n",
       "      <th>2019-05-31 22:00:00</th>\n",
       "      <td>0</td>\n",
       "      <td>0</td>\n",
       "      <td>1</td>\n",
       "    </tr>\n",
       "    <tr>\n",
       "      <th>2019-06-01 00:00:00</th>\n",
       "      <td>0</td>\n",
       "      <td>0</td>\n",
       "      <td>10</td>\n",
       "    </tr>\n",
       "    <tr>\n",
       "      <th>2019-06-01 00:15:00</th>\n",
       "      <td>2</td>\n",
       "      <td>2</td>\n",
       "      <td>18</td>\n",
       "    </tr>\n",
       "    <tr>\n",
       "      <th>2019-06-01 00:30:00</th>\n",
       "      <td>14</td>\n",
       "      <td>20</td>\n",
       "      <td>25</td>\n",
       "    </tr>\n",
       "    <tr>\n",
       "      <th>...</th>\n",
       "      <td>...</td>\n",
       "      <td>...</td>\n",
       "      <td>...</td>\n",
       "    </tr>\n",
       "    <tr>\n",
       "      <th>2019-07-01 00:15:00</th>\n",
       "      <td>25</td>\n",
       "      <td>63</td>\n",
       "      <td>8</td>\n",
       "    </tr>\n",
       "    <tr>\n",
       "      <th>2019-07-01 00:30:00</th>\n",
       "      <td>6</td>\n",
       "      <td>12</td>\n",
       "      <td>0</td>\n",
       "    </tr>\n",
       "    <tr>\n",
       "      <th>2019-07-01 00:45:00</th>\n",
       "      <td>1</td>\n",
       "      <td>2</td>\n",
       "      <td>0</td>\n",
       "    </tr>\n",
       "    <tr>\n",
       "      <th>2019-07-01 01:00:00</th>\n",
       "      <td>0</td>\n",
       "      <td>2</td>\n",
       "      <td>0</td>\n",
       "    </tr>\n",
       "    <tr>\n",
       "      <th>2019-07-02 00:00:00</th>\n",
       "      <td>0</td>\n",
       "      <td>1</td>\n",
       "      <td>0</td>\n",
       "    </tr>\n",
       "  </tbody>\n",
       "</table>\n",
       "<p>2879 rows × 3 columns</p>\n",
       "</div>"
      ],
      "text/plain": [
       "                     Brooklyn  Manhattan  Queens\n",
       "time_bin                                        \n",
       "2008-12-31 23:15:00         0          0       1\n",
       "2019-05-31 22:00:00         0          0       1\n",
       "2019-06-01 00:00:00         0          0      10\n",
       "2019-06-01 00:15:00         2          2      18\n",
       "2019-06-01 00:30:00        14         20      25\n",
       "...                       ...        ...     ...\n",
       "2019-07-01 00:15:00        25         63       8\n",
       "2019-07-01 00:30:00         6         12       0\n",
       "2019-07-01 00:45:00         1          2       0\n",
       "2019-07-01 01:00:00         0          2       0\n",
       "2019-07-02 00:00:00         0          1       0\n",
       "\n",
       "[2879 rows x 3 columns]"
      ]
     },
     "execution_count": 242,
     "metadata": {},
     "output_type": "execute_result"
    }
   ],
   "source": [
    "jfkTest2 = jfkTest1.groupby(\"time_bin\").sum()\n",
    "jfkTest2"
   ]
  },
  {
   "cell_type": "code",
   "execution_count": 266,
   "metadata": {},
   "outputs": [
    {
     "data": {
      "text/plain": [
       "<matplotlib.axes._subplots.AxesSubplot at 0x1c65405eee0>"
      ]
     },
     "execution_count": 266,
     "metadata": {},
     "output_type": "execute_result"
    },
    {
     "data": {
      "image/png": "[encoded data removed]",
      "text/plain": [
       "<Figure size 432x288 with 1 Axes>"
      ]
     },
     "metadata": {
      "needs_background": "light"
     },
     "output_type": "display_data"
    }
   ],
   "source": [
    "jfkTest2.Manhattan.hist()"
   ]
  },
  {
   "cell_type": "code",
   "execution_count": 267,
   "metadata": {},
   "outputs": [
    {
     "data": {
      "text/plain": [
       "<matplotlib.axes._subplots.AxesSubplot at 0x1c653160490>"
      ]
     },
     "execution_count": 267,
     "metadata": {},
     "output_type": "execute_result"
    },
    {
     "data": {
      "image/png": "[encoded data removed]",
      "text/plain": [
       "<Figure size 432x288 with 1 Axes>"
      ]
     },
     "metadata": {
      "needs_background": "light"
     },
     "output_type": "display_data"
    }
   ],
   "source": [
    "jfkTest2.Queens.hist()"
   ]
  },
  {
   "cell_type": "code",
   "execution_count": 268,
   "metadata": {},
   "outputs": [
    {
     "data": {
      "text/plain": [
       "<matplotlib.axes._subplots.AxesSubplot at 0x1c62ab98400>"
      ]
     },
     "execution_count": 268,
     "metadata": {},
     "output_type": "execute_result"
    },
    {
     "data": {
      "image/png": "[encoded data removed]",
      "text/plain": [
       "<Figure size 432x288 with 1 Axes>"
      ]
     },
     "metadata": {
      "needs_background": "light"
     },
     "output_type": "display_data"
    }
   ],
   "source": [
    "jfkTest2.Brooklyn.hist()"
   ]
  },
  {
   "cell_type": "code",
   "execution_count": 252,
   "metadata": {},
   "outputs": [
    {
     "data": {
      "text/plain": [
       "Brooklyn     1.000000\n",
       "Manhattan    0.797699\n",
       "Queens       0.687030\n",
       "Name: Brooklyn, dtype: float64"
      ]
     },
     "execution_count": 252,
     "metadata": {},
     "output_type": "execute_result"
    }
   ],
   "source": [
    "jfkTest2.corr().Brooklyn.sort_values(ascending=False)"
   ]
  },
  {
   "cell_type": "code",
   "execution_count": 16,
   "metadata": {},
   "outputs": [],
   "source": [
    "df = df[[\"tpep_dropoff_datetime\", \"DOLocationID\", \"DOBorough\"]]"
   ]
  },
  {
   "cell_type": "code",
   "execution_count": 17,
   "metadata": {},
   "outputs": [
    {
     "data": {
      "text/html": [
       "<div>\n",
       "<style scoped>\n",
       "    .dataframe tbody tr th:only-of-type {\n",
       "        vertical-align: middle;\n",
       "    }\n",
       "\n",
       "    .dataframe tbody tr th {\n",
       "        vertical-align: top;\n",
       "    }\n",
       "\n",
       "    .dataframe thead th {\n",
       "        text-align: right;\n",
       "    }\n",
       "</style>\n",
       "<table border=\"1\" class=\"dataframe\">\n",
       "  <thead>\n",
       "    <tr style=\"text-align: right;\">\n",
       "      <th></th>\n",
       "      <th>tpep_dropoff_datetime</th>\n",
       "      <th>DOLocationID</th>\n",
       "      <th>DOBorough</th>\n",
       "    </tr>\n",
       "  </thead>\n",
       "  <tbody>\n",
       "    <tr>\n",
       "      <th>0</th>\n",
       "      <td>2019-06-01 00:56:17</td>\n",
       "      <td>145</td>\n",
       "      <td>Queens</td>\n",
       "    </tr>\n",
       "    <tr>\n",
       "      <th>1</th>\n",
       "      <td>2019-06-01 00:36:38</td>\n",
       "      <td>7</td>\n",
       "      <td>Queens</td>\n",
       "    </tr>\n",
       "    <tr>\n",
       "      <th>2</th>\n",
       "      <td>2019-06-01 00:15:42</td>\n",
       "      <td>148</td>\n",
       "      <td>Manhattan</td>\n",
       "    </tr>\n",
       "    <tr>\n",
       "      <th>3</th>\n",
       "      <td>2019-06-01 00:39:23</td>\n",
       "      <td>125</td>\n",
       "      <td>Manhattan</td>\n",
       "    </tr>\n",
       "    <tr>\n",
       "      <th>4</th>\n",
       "      <td>2019-06-01 00:50:55</td>\n",
       "      <td>148</td>\n",
       "      <td>Manhattan</td>\n",
       "    </tr>\n",
       "    <tr>\n",
       "      <th>...</th>\n",
       "      <td>...</td>\n",
       "      <td>...</td>\n",
       "      <td>...</td>\n",
       "    </tr>\n",
       "    <tr>\n",
       "      <th>6720063</th>\n",
       "      <td>2019-06-30 23:39:48</td>\n",
       "      <td>158</td>\n",
       "      <td>Manhattan</td>\n",
       "    </tr>\n",
       "    <tr>\n",
       "      <th>6720064</th>\n",
       "      <td>2019-06-30 23:57:01</td>\n",
       "      <td>90</td>\n",
       "      <td>Manhattan</td>\n",
       "    </tr>\n",
       "    <tr>\n",
       "      <th>6720065</th>\n",
       "      <td>2019-07-01 00:00:42</td>\n",
       "      <td>186</td>\n",
       "      <td>Manhattan</td>\n",
       "    </tr>\n",
       "    <tr>\n",
       "      <th>6720066</th>\n",
       "      <td>2019-06-30 23:30:45</td>\n",
       "      <td>163</td>\n",
       "      <td>Manhattan</td>\n",
       "    </tr>\n",
       "    <tr>\n",
       "      <th>6720067</th>\n",
       "      <td>2019-06-30 23:44:56</td>\n",
       "      <td>151</td>\n",
       "      <td>Manhattan</td>\n",
       "    </tr>\n",
       "  </tbody>\n",
       "</table>\n",
       "<p>6580538 rows × 3 columns</p>\n",
       "</div>"
      ],
      "text/plain": [
       "        tpep_dropoff_datetime  DOLocationID  DOBorough\n",
       "0         2019-06-01 00:56:17           145     Queens\n",
       "1         2019-06-01 00:36:38             7     Queens\n",
       "2         2019-06-01 00:15:42           148  Manhattan\n",
       "3         2019-06-01 00:39:23           125  Manhattan\n",
       "4         2019-06-01 00:50:55           148  Manhattan\n",
       "...                       ...           ...        ...\n",
       "6720063   2019-06-30 23:39:48           158  Manhattan\n",
       "6720064   2019-06-30 23:57:01            90  Manhattan\n",
       "6720065   2019-07-01 00:00:42           186  Manhattan\n",
       "6720066   2019-06-30 23:30:45           163  Manhattan\n",
       "6720067   2019-06-30 23:44:56           151  Manhattan\n",
       "\n",
       "[6580538 rows x 3 columns]"
      ]
     },
     "execution_count": 17,
     "metadata": {},
     "output_type": "execute_result"
    }
   ],
   "source": [
    "df"
   ]
  },
  {
   "cell_type": "code",
   "execution_count": 18,
   "metadata": {},
   "outputs": [
    {
     "name": "stderr",
     "output_type": "stream",
     "text": [
      "<ipython-input-18-773d5b494f34>:1: SettingWithCopyWarning: \n",
      "A value is trying to be set on a copy of a slice from a DataFrame.\n",
      "Try using .loc[row_indexer,col_indexer] = value instead\n",
      "\n",
      "See the caveats in the documentation: https://pandas.pydata.org/pandas-docs/stable/user_guide/indexing.html#returning-a-view-versus-a-copy\n",
      "  df[\"time_bin\"] = df[\"tpep_dropoff_datetime\"].apply(lambda x: x - timedelta(minutes=x.minute % 15, seconds=x.second))\n"
     ]
    }
   ],
   "source": [
    "df[\"time_bin\"] = df[\"tpep_dropoff_datetime\"].apply(lambda x: x - timedelta(minutes=x.minute % 15, seconds=x.second))"
   ]
  },
  {
   "cell_type": "code",
   "execution_count": 20,
   "metadata": {},
   "outputs": [],
   "source": [
    "df = df.drop(columns=[\"tpep_dropoff_datetime\", \"DOBorough\"])"
   ]
  },
  {
   "cell_type": "code",
   "execution_count": 35,
   "metadata": {},
   "outputs": [
    {
     "data": {
      "text/plain": [
       "<matplotlib.axes._subplots.AxesSubplot at 0x226a076e940>"
      ]
     },
     "execution_count": 35,
     "metadata": {},
     "output_type": "execute_result"
    },
    {
     "data": {
      "image/png": "[encoded data removed]",
      "text/plain": [
       "<Figure size 432x288 with 1 Axes>"
      ]
     },
     "metadata": {
      "needs_background": "light"
     },
     "output_type": "display_data"
    }
   ],
   "source": [
    "df.groupby(\"time_bin\").count()[\"2019-6-10\"].plot()"
   ]
  },
  {
   "cell_type": "code",
   "execution_count": 23,
   "metadata": {},
   "outputs": [
    {
     "data": {
      "text/html": [
       "<div>\n",
       "<style scoped>\n",
       "    .dataframe tbody tr th:only-of-type {\n",
       "        vertical-align: middle;\n",
       "    }\n",
       "\n",
       "    .dataframe tbody tr th {\n",
       "        vertical-align: top;\n",
       "    }\n",
       "\n",
       "    .dataframe thead th {\n",
       "        text-align: right;\n",
       "    }\n",
       "</style>\n",
       "<table border=\"1\" class=\"dataframe\">\n",
       "  <thead>\n",
       "    <tr style=\"text-align: right;\">\n",
       "      <th></th>\n",
       "      <th>DOLocationID</th>\n",
       "      <th>time_bin</th>\n",
       "    </tr>\n",
       "  </thead>\n",
       "  <tbody>\n",
       "    <tr>\n",
       "      <th>0</th>\n",
       "      <td>145</td>\n",
       "      <td>2019-06-01 00:45:00</td>\n",
       "    </tr>\n",
       "    <tr>\n",
       "      <th>1</th>\n",
       "      <td>7</td>\n",
       "      <td>2019-06-01 00:30:00</td>\n",
       "    </tr>\n",
       "    <tr>\n",
       "      <th>2</th>\n",
       "      <td>148</td>\n",
       "      <td>2019-06-01 00:15:00</td>\n",
       "    </tr>\n",
       "    <tr>\n",
       "      <th>3</th>\n",
       "      <td>125</td>\n",
       "      <td>2019-06-01 00:30:00</td>\n",
       "    </tr>\n",
       "    <tr>\n",
       "      <th>4</th>\n",
       "      <td>148</td>\n",
       "      <td>2019-06-01 00:45:00</td>\n",
       "    </tr>\n",
       "    <tr>\n",
       "      <th>...</th>\n",
       "      <td>...</td>\n",
       "      <td>...</td>\n",
       "    </tr>\n",
       "    <tr>\n",
       "      <th>6720063</th>\n",
       "      <td>158</td>\n",
       "      <td>2019-06-30 23:30:00</td>\n",
       "    </tr>\n",
       "    <tr>\n",
       "      <th>6720064</th>\n",
       "      <td>90</td>\n",
       "      <td>2019-06-30 23:45:00</td>\n",
       "    </tr>\n",
       "    <tr>\n",
       "      <th>6720065</th>\n",
       "      <td>186</td>\n",
       "      <td>2019-07-01 00:00:00</td>\n",
       "    </tr>\n",
       "    <tr>\n",
       "      <th>6720066</th>\n",
       "      <td>163</td>\n",
       "      <td>2019-06-30 23:30:00</td>\n",
       "    </tr>\n",
       "    <tr>\n",
       "      <th>6720067</th>\n",
       "      <td>151</td>\n",
       "      <td>2019-06-30 23:30:00</td>\n",
       "    </tr>\n",
       "  </tbody>\n",
       "</table>\n",
       "<p>6580538 rows × 2 columns</p>\n",
       "</div>"
      ],
      "text/plain": [
       "         DOLocationID            time_bin\n",
       "0                 145 2019-06-01 00:45:00\n",
       "1                   7 2019-06-01 00:30:00\n",
       "2                 148 2019-06-01 00:15:00\n",
       "3                 125 2019-06-01 00:30:00\n",
       "4                 148 2019-06-01 00:45:00\n",
       "...               ...                 ...\n",
       "6720063           158 2019-06-30 23:30:00\n",
       "6720064            90 2019-06-30 23:45:00\n",
       "6720065           186 2019-07-01 00:00:00\n",
       "6720066           163 2019-06-30 23:30:00\n",
       "6720067           151 2019-06-30 23:30:00\n",
       "\n",
       "[6580538 rows x 2 columns]"
      ]
     },
     "execution_count": 23,
     "metadata": {},
     "output_type": "execute_result"
    }
   ],
   "source": [
    "df.time"
   ]
  },
  {
   "cell_type": "code",
   "execution_count": null,
   "metadata": {},
   "outputs": [],
   "source": []
  }
 ],
 "metadata": {
  "kernelspec": {
   "display_name": "Python 3",
   "language": "python",
   "name": "python3"
  },
  "language_info": {
   "codemirror_mode": {
    "name": "ipython",
    "version": 3
   },
   "file_extension": ".py",
   "mimetype": "text/x-python",
   "name": "python",
   "nbconvert_exporter": "python",
   "pygments_lexer": "ipython3",
   "version": "3.8.3"
  }
 },
 "nbformat": 4,
 "nbformat_minor": 4
}
